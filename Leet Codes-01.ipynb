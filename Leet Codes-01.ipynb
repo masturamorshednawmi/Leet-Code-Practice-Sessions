{
 "cells": [
  {
   "cell_type": "markdown",
   "id": "b437c7b1-e7c8-43d4-84ea-b107e502d629",
   "metadata": {},
   "source": [
    "Maximum Products of Three Numbers:\n",
    "Given an integer array nums, find three numbers whose product is maximum and return the maximum product.\r\n",
    "\r\n",
    " \r\n",
    "\r\n",
    "Example 1:\r\n",
    "\r\n",
    "Input: nums = [1,2,3]\r\n",
    "Output: 6\r\n",
    "Example 2:\r\n",
    "\r\n",
    "Input: nums = [1,2,3,4]\r\n",
    "Output: 24\r\n",
    "Example 3:\r\n",
    "\r\n",
    "Input: nums = [-1,-2,-3]\r\n",
    "Output: -6"
   ]
  },
  {
   "cell_type": "code",
   "execution_count": 4,
   "id": "25be6228-de19-435e-9c9a-5d0120367ba9",
   "metadata": {},
   "outputs": [],
   "source": [
    "def max_product(List):\n",
    "    \n",
    "    List.sort(reverse=True)\n",
    "    print(List)\n",
    "    return max(List[0]*List[1]*List[2],List[0]*List[-1]*List[-2])"
   ]
  },
  {
   "cell_type": "code",
   "execution_count": 8,
   "id": "359577a5-ebaa-44c2-92fa-a4d90af43572",
   "metadata": {},
   "outputs": [
    {
     "name": "stdout",
     "output_type": "stream",
     "text": [
      "[3, 2, 1]\n",
      "[4, 3, 2, -1, -98, -100]\n"
     ]
    },
    {
     "data": {
      "text/plain": [
       "39200"
      ]
     },
     "execution_count": 8,
     "metadata": {},
     "output_type": "execute_result"
    }
   ],
   "source": [
    "max_product([1,2,3])\n",
    "max_product([-100,-98,-1,2,3,4])\n",
    "   "
   ]
  },
  {
   "cell_type": "markdown",
   "id": "38774cac-730b-4f35-8788-0ec51f8e4ae9",
   "metadata": {},
   "source": [
    "Given a valid (IPv4) IP address, return a defanged version of that IP address.\r\n",
    "\r\n",
    "A defanged IP address replaces every period \".\" with \"[.]\"\r\n",
    " \r\n",
    "\r\n",
    "Example 1:\r\n",
    "\r\n",
    "Input: address = \"1.1.1.1\"\r\n",
    "Output: \"1[.]1[.]1[.]1\"\r\n",
    "Example 2:\r\n",
    "\r\n",
    "Input: address = \"255.100.50.0\"\r\n",
    "Output: \"255[.]100[.]50[.]0\""
   ]
  },
  {
   "cell_type": "code",
   "execution_count": 9,
   "id": "55829c16-ca6f-427b-8904-189ac8c0b538",
   "metadata": {},
   "outputs": [],
   "source": [
    "def defangIPaddr(address):\n",
    "    return address.replace(\".\",\"[.]\")"
   ]
  },
  {
   "cell_type": "code",
   "execution_count": 10,
   "id": "3359da79-95e0-453b-8c23-fec0074213bf",
   "metadata": {},
   "outputs": [
    {
     "data": {
      "text/plain": [
       "'1[.]1[.]1[.]1'"
      ]
     },
     "execution_count": 10,
     "metadata": {},
     "output_type": "execute_result"
    }
   ],
   "source": [
    "defangIPaddr(\"1.1.1.1\")"
   ]
  },
  {
   "cell_type": "markdown",
   "id": "0987cf4f-e8e6-4b47-a989-0f49c934a5de",
   "metadata": {},
   "source": [
    "Given two string arrays word1 and word2, return true if the two arrays represent the same string, and false otherwise.\r\n",
    "\r\n",
    "A string is represented by an array if the array elements concatenated in order forms the string.\r\n",
    "\r\n",
    " \r\n",
    "\r\n",
    "Example 1:\r\n",
    "\r\n",
    "Input: word1 = [\"ab\", \"c\"], word2 = [\"a\", \"bc\"]\r\n",
    "Output: true\r\n",
    "Explanation:\r\n",
    "word1 represents string \"ab\" + \"c\" -> \"abc\"\r\n",
    "word2 represents string \"a\" + \"bc\" -> \"abc\"\r\n",
    "The strings are the same, so return true.\r\n",
    "Example 2:\r\n",
    "\r\n",
    "Input: word1 = [\"a\", \"cb\"], word2 = [\"ab\", \"c\"]\r\n",
    "Output: false\r\n",
    "Example 3:\r\n",
    "\r\n",
    "Input: word1  = [\"abc\", \"d\", \"defg\"], word2 = [\"abcddefg\"]\r\n",
    "Output: true"
   ]
  },
  {
   "cell_type": "code",
   "execution_count": 11,
   "id": "1abfc2bb-a878-4b5a-addf-c9d15f94e409",
   "metadata": {},
   "outputs": [],
   "source": [
    "def Are_strings_the_same(word1,word2):\n",
    "    newword1=[]\n",
    "    newword1.append(\"\".join(word1))\n",
    "    newword2=[]\n",
    "    newword2.append(\"\".join(word2))\n",
    "    if newword1==newword2:\n",
    "        Answer=\"True\"\n",
    "    else:\n",
    "        Answer=\"False\"\n",
    "    return(Answer)"
   ]
  },
  {
   "cell_type": "code",
   "execution_count": 12,
   "id": "26787f7f-954d-4256-853e-488a62255266",
   "metadata": {},
   "outputs": [
    {
     "data": {
      "text/plain": [
       "'True'"
      ]
     },
     "execution_count": 12,
     "metadata": {},
     "output_type": "execute_result"
    }
   ],
   "source": [
    "Are_strings_the_same([\"ab\", \"c\"],[\"a\", \"bc\"])"
   ]
  },
  {
   "cell_type": "markdown",
   "id": "47ebf861-4191-470d-818d-8312840fe7ad",
   "metadata": {},
   "source": [
    "You are given an m x n integer grid accounts where accounts[i][j] is the amount of money the i​​​​​​​​​​​th​​​​ customer has in the j​​​​​​​​​​​th​​​​ bank. Return the wealth that the richest customer has.\n",
    "\n",
    "A customer's wealth is the amount of money they have in all their bank accounts. The richest customer is the customer that has the maximum wealth.\n",
    "\n",
    " \n",
    "\n",
    "Example 1:\n",
    "\n",
    "Input: accounts = [[1,2,3],[3,2,1]]\n",
    "Output: 6\n",
    "Explanation:\n",
    "1st customer has wealth = 1 + 2 + 3 = 6\n",
    "2nd customer has wealth = 3 + 2 + 1 = 6\n",
    "Both customers are considered the richest with a wealth of 6 each, so return 6.\n",
    "Example 2:\n",
    "\n",
    "Input: accounts = [[1,5],[7,3],[3,5]]\n",
    "Output: 10\n",
    "Explanation: \n",
    "1st customer has wealth = 6\n",
    "2nd customer has wealth = 10 \n",
    "3rd customer has wealth = 8\n",
    "The 2nd customer is the richest with a wealth of 10.\n",
    "Example 3:\n",
    "\n",
    "Input: accounts = [[2,8,7],[7,1,3],[1,9,5]]\n",
    "Output: 17"
   ]
  },
  {
   "cell_type": "code",
   "execution_count": 14,
   "id": "753baddd-3ba9-4158-a391-428ccb011ec5",
   "metadata": {},
   "outputs": [],
   "source": [
    "def maximumWealth(accounts):\n",
    "        return max(sum(acc) for acc in accounts)"
   ]
  },
  {
   "cell_type": "code",
   "execution_count": 15,
   "id": "fdd0ca48-bca5-4e6c-acee-937370533a9d",
   "metadata": {},
   "outputs": [
    {
     "data": {
      "text/plain": [
       "6"
      ]
     },
     "execution_count": 15,
     "metadata": {},
     "output_type": "execute_result"
    }
   ],
   "source": [
    "maximumWealth([[1,2,3],[3,2,1]])"
   ]
  },
  {
   "cell_type": "markdown",
   "id": "e20ed05b-1607-4d3a-bee5-89661f052a68",
   "metadata": {},
   "source": [
    "You own a Goal Parser that can interpret a string command. The command consists of an alphabet of \"G\", \"()\" and/or \"(al)\" in some order. The Goal Parser will interpret \"G\" as the string \"G\", \"()\" as the string \"o\", and \"(al)\" as the string \"al\". The interpreted strings are then concatenated in the original order.\n",
    "\n",
    "Given the string command, return the Goal Parser's interpretation of command.\n",
    "\n",
    " \n",
    "\n",
    "Example 1:\n",
    "\n",
    "Input: command = \"G()(al)\"\n",
    "Output: \"Goal\"\n",
    "Explanation: The Goal Parser interprets the command as follows:\n",
    "G -> G\n",
    "() -> o\n",
    "(al) -> al\n",
    "The final concatenated result is \"Goal\".\n",
    "Example 2:\n",
    "\n",
    "Input: command = \"G()()()()(al)\"\n",
    "Output: \"Gooooal\"\n",
    "Example 3:\n",
    "\n",
    "Input: command = \"(al)G(al)()()G\"\n",
    "Output: \"alGalooG\""
   ]
  },
  {
   "cell_type": "code",
   "execution_count": 18,
   "id": "e4e7ea9f-eead-4ef4-99c9-c7b7cad1be5a",
   "metadata": {},
   "outputs": [],
   "source": [
    "def interpret(command):\n",
    "    command=command.replace(\"()\",\"o\") \n",
    "    command1=command.replace(\"(al)\",\"al\")\n",
    "    return (command1)"
   ]
  },
  {
   "cell_type": "code",
   "execution_count": null,
   "id": "22c4c793-58c1-460d-92db-fccec161feea",
   "metadata": {},
   "outputs": [],
   "source": []
  },
  {
   "cell_type": "code",
   "execution_count": null,
   "id": "6b6eeb0b-ea29-4bbe-abd3-4f6b7ad32f56",
   "metadata": {},
   "outputs": [],
   "source": []
  }
 ],
 "metadata": {
  "kernelspec": {
   "display_name": "Python 3 (ipykernel)",
   "language": "python",
   "name": "python3"
  },
  "language_info": {
   "codemirror_mode": {
    "name": "ipython",
    "version": 3
   },
   "file_extension": ".py",
   "mimetype": "text/x-python",
   "name": "python",
   "nbconvert_exporter": "python",
   "pygments_lexer": "ipython3",
   "version": "3.12.4"
  }
 },
 "nbformat": 4,
 "nbformat_minor": 5
}
